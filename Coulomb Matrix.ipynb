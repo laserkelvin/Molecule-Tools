{
 "cells": [
  {
   "cell_type": "code",
   "execution_count": 79,
   "metadata": {
    "collapsed": false
   },
   "outputs": [],
   "source": [
    "%matplotlib inline\n",
    "import numpy as np"
   ]
  },
  {
   "cell_type": "code",
   "execution_count": 75,
   "metadata": {
    "collapsed": true
   },
   "outputs": [],
   "source": [
    "class __Atom__:\n",
    "    \"\"\" Crappy class of Atom for holding atomic\n",
    "        symbol, charge and coordinates.\n",
    "    \"\"\"\n",
    "    def __init__(self, Symbol, Coordinates):\n",
    "        \"\"\" Label is atom symbol string,\n",
    "            Coordinates is 3-tuple list\n",
    "            \n",
    "            Charges are taken from this list:\n",
    "            https://en.wikipedia.org/wiki/Effective_nuclear_charge#Values\n",
    "        \"\"\"\n",
    "        ChargeTable = {\"C\": 5.673,\n",
    "                       \"B\": 4.680,\n",
    "                       \"H\": 1.,\n",
    "                       \"O\"\n",
    "                      }\n",
    "        self.Symbol = Symbol\n",
    "        self.Coordinates = np.array(Coordinates)\n",
    "        self.Charge = ChargeTable[Symbol]\n",
    "\n",
    "    def GetCoordinates(self):\n",
    "        return self.Coordinates\n",
    "    \n",
    "    def GetSymbol(self):\n",
    "        return self.Symbol\n",
    "    \n",
    "    def GetCharge(self):\n",
    "        return self.Charge"
   ]
  },
  {
   "cell_type": "code",
   "execution_count": 58,
   "metadata": {
    "collapsed": false
   },
   "outputs": [],
   "source": [
    "def CMDiagonal(Charge):\n",
    "    \"\"\" Diagonal elements only depend on charge of one atom \"\"\"\n",
    "    return 0.5 * Charge**(2.4)\n",
    "\n",
    "def CMOffDiagonal(Atom1, Atom2):\n",
    "    \"\"\" Off-diagonal elements of Coulomb Matrix from Hansen et al. JCTC, 2013 \"\"\"\n",
    "    Denominator = np.sqrt(np.sum((Atom1.GetCoordinates() - Atom2.GetCoordinates())**2.))\n",
    "    Numerator = Atom1.GetCharge() * Atom2.GetCharge()\n",
    "    return Numerator / Denominator\n",
    "\n",
    "def CalculateCoulombMatrix(Molecule):\n",
    "    \"\"\" For a given dictionary input of atom classes,\n",
    "        return the associated Coulomb matrix\n",
    "    \"\"\"\n",
    "    NAtoms = len(Molecule)          # Number of atoms in the molecule\n",
    "    CoulombMatrix = np.zeros((NAtoms, NAtoms), dtype=float)   # initialise array\n",
    "    for i in xrange(NAtoms):        # Loop over atoms i\n",
    "        for j in xrange(NAtoms):    # Loop over atoms j\n",
    "            if i == j:              # Calculate diagonal element as effective charge\n",
    "                CoulombMatrix[i, j] = CMDiagonal(Molecule[i].GetCharge())\n",
    "            else:                   # Calculate off-diagonal elements\n",
    "                CoulombMatrix[i, j] = CMOffDiagonal(Molecule[i], Molecule[j])\n",
    "    return CoulombMatrix"
   ]
  },
  {
   "cell_type": "markdown",
   "metadata": {},
   "source": [
    "## Atoms\n",
    "\n",
    "Atoms are defined as a list of strings here.\n",
    "\n",
    "---"
   ]
  },
  {
   "cell_type": "code",
   "execution_count": 26,
   "metadata": {
    "collapsed": true
   },
   "outputs": [],
   "source": [
    "Atoms = [\"C\", \"B\", \"H\"]"
   ]
  },
  {
   "cell_type": "markdown",
   "metadata": {},
   "source": [
    "## Generate some random coordinates\n",
    "\n",
    "Making some random $x,y,z$ coordinates up\n",
    "\n",
    "---"
   ]
  },
  {
   "cell_type": "code",
   "execution_count": 27,
   "metadata": {
    "collapsed": false
   },
   "outputs": [],
   "source": [
    "Coordinates = []\n",
    "for AtomNumber in range(len(Atoms)):\n",
    "    Coordinates.append(np.random.rand(3))"
   ]
  },
  {
   "cell_type": "markdown",
   "metadata": {},
   "source": [
    "## Molecule\n",
    "\n",
    "Here we've defined a molecule as a dictionary of atom objects. \n",
    "\n",
    "We'll loop over the number of atoms, and initialise each dictionary key with an atom.\n",
    "\n",
    "In an actual run, we'll need to parse information from an xyz file somehow instead.\n",
    "\n",
    "---"
   ]
  },
  {
   "cell_type": "code",
   "execution_count": 76,
   "metadata": {
    "collapsed": false
   },
   "outputs": [],
   "source": [
    "Molecule = dict()"
   ]
  },
  {
   "cell_type": "code",
   "execution_count": 77,
   "metadata": {
    "collapsed": false
   },
   "outputs": [],
   "source": [
    "for Index, Atom in enumerate(Atoms):\n",
    "    Molecule[Index] = __Atom__(Atom, Coordinates[Index])"
   ]
  },
  {
   "cell_type": "markdown",
   "metadata": {},
   "source": [
    "## Calculate the Coulomb matrix\n",
    "\n",
    "Call our function, using the Molecule dictionary as input to calculate a Coulomb matrix.\n",
    "\n",
    "---"
   ]
  },
  {
   "cell_type": "code",
   "execution_count": 81,
   "metadata": {
    "collapsed": false
   },
   "outputs": [],
   "source": [
    "CM = CalculateCoulombMatrix(Molecule)"
   ]
  },
  {
   "cell_type": "code",
   "execution_count": null,
   "metadata": {
    "collapsed": true
   },
   "outputs": [],
   "source": [
    "def ReadXYZ(File):\n",
    "    f = open(File, \"r\")\n",
    "    fc = f.readlines()\n",
    "    f.close()\n",
    "    NAtoms = len(fc)\n",
    "    Coordinates = []\n",
    "    for line in range(NAtoms):\n",
    "        Coordinates.append(fc[line].split())\n",
    "    return Coordinates"
   ]
  }
 ],
 "metadata": {
  "kernelspec": {
   "display_name": "Python 2",
   "language": "python",
   "name": "python2"
  },
  "language_info": {
   "codemirror_mode": {
    "name": "ipython",
    "version": 2
   },
   "file_extension": ".py",
   "mimetype": "text/x-python",
   "name": "python",
   "nbconvert_exporter": "python",
   "pygments_lexer": "ipython2",
   "version": "2.7.11"
  }
 },
 "nbformat": 4,
 "nbformat_minor": 0
}
